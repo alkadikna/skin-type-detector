{
  "cells": [
    {
      "cell_type": "code",
      "execution_count": null,
      "metadata": {
        "id": "VUimpbSsddmr"
      },
      "outputs": [],
      "source": [
        "from google.colab import drive #if youre using colab\n",
        "drive.mount('/content/drive')"
      ]
    },
    {
      "cell_type": "code",
      "execution_count": null,
      "metadata": {
        "id": "vGMdrhXAFrtT"
      },
      "outputs": [],
      "source": [
        "!pip install optuna"
      ]
    },
    {
      "cell_type": "code",
      "execution_count": null,
      "metadata": {
        "id": "-j7AdwOchkPy"
      },
      "outputs": [],
      "source": [
        "import os\n",
        "import numpy as np\n",
        "import pandas as pd\n",
        "import matplotlib.pyplot as plt\n",
        "import seaborn as sns\n",
        "\n",
        "import torch\n",
        "import torch.nn as nn\n",
        "from torch.utils.data import Dataset, DataLoader\n",
        "import torch.optim as optim\n",
        "\n",
        "import optuna\n",
        "from tqdm.auto import tqdm\n",
        "from copy import deepcopy\n",
        "from PIL import Image\n",
        "from sklearn.model_selection import train_test_split\n",
        "from sklearn.metrics import accuracy_score, confusion_matrix, classification_report\n",
        "\n",
        "from torchvision import transforms\n",
        "from torchvision.models import efficientnet_v2_s, EfficientNet_V2_S_Weights"
      ]
    },
    {
      "cell_type": "code",
      "execution_count": null,
      "metadata": {
        "id": "dF0VkIIjdp_a"
      },
      "outputs": [],
      "source": [
        "FILEPATH = \"/content/drive/MyDrive/Colab Notebooks/capstone_data\" #change according to your local machine"
      ]
    },
    {
      "cell_type": "code",
      "execution_count": null,
      "metadata": {
        "id": "TBf5XK-OwXPV"
      },
      "outputs": [],
      "source": [
        "faces = np.load(f\"{FILEPATH}/preprocessed_faces.npy\")\n",
        "labels = np.load(f\"{FILEPATH}/preprocessed_labels.npy\")\n",
        "print(\"Faces shape:\", faces.shape)\n",
        "print(\"Labels shape:\", labels.shape)"
      ]
    },
    {
      "cell_type": "code",
      "execution_count": null,
      "metadata": {
        "id": "XV0ZVMKrmD8A"
      },
      "outputs": [],
      "source": [
        "plt.figure(figsize=(12, 8))\n",
        "for i in range(min(12, len(faces))):\n",
        "    plt.subplot(3, 4, i + 1)\n",
        "    plt.imshow(faces[i+5])\n",
        "    plt.title(f\"Label: {labels[i+5]}\")\n",
        "    plt.axis(\"off\")\n",
        "plt.show()"
      ]
    },
    {
      "cell_type": "code",
      "execution_count": null,
      "metadata": {
        "id": "m9z71sm-mFaP"
      },
      "outputs": [],
      "source": [
        "EPOCHS = 20 #set to 50 or more to find better parameter later\n",
        "BATCH = 32\n",
        "OUT_CLASSES = 4\n",
        "IMG_SIZE = 224"
      ]
    },
    {
      "cell_type": "code",
      "execution_count": null,
      "metadata": {
        "id": "Zhqnf5MYD1Hr"
      },
      "outputs": [],
      "source": [
        "train_transform = transforms.Compose([\n",
        "    transforms.ToPILImage(),\n",
        "    transforms.ToTensor(),\n",
        "    transforms.Resize((IMG_SIZE, IMG_SIZE)),\n",
        "    transforms.RandomVerticalFlip(0.6),\n",
        "    transforms.Normalize(mean=[0.485, 0.456, 0.406],\n",
        "                         std=[0.229, 0.224, 0.225])\n",
        "])\n",
        "\n",
        "transform = transforms.Compose([\n",
        "    transforms.ToPILImage(),\n",
        "    transforms.ToTensor(),\n",
        "    transforms.Resize((IMG_SIZE, IMG_SIZE)),\n",
        "    transforms.Normalize(mean=[0.485, 0.456, 0.406],\n",
        "                         std=[0.229, 0.224, 0.225])\n",
        "])\n"
      ]
    },
    {
      "cell_type": "code",
      "execution_count": null,
      "metadata": {
        "id": "mDRl1oS7D1Ml"
      },
      "outputs": [],
      "source": [
        "label_index = {\"combination\": 0, \"dry\": 1, \"normal\": 2, \"oily\": 3}\n",
        "index_label = {0: \"combination\", 1: \"dry\", 2: \"normal\", 3: \"oily\"}\n",
        "\n",
        "faces_train, faces_temp, labels_train, labels_temp = train_test_split(\n",
        "    faces, labels, test_size=0.2, random_state=42\n",
        ")\n",
        "faces_val, faces_test, labels_val, labels_test = train_test_split(\n",
        "    faces_temp, labels_temp, test_size=0.5, random_state=42\n",
        ")\n"
      ]
    },
    {
      "cell_type": "code",
      "execution_count": null,
      "metadata": {
        "id": "IzwA6a1rD1O8"
      },
      "outputs": [],
      "source": [
        "class NPYDataset(Dataset):\n",
        "    def __init__(self, data, labels, transform=None):\n",
        "        self.data = data\n",
        "        self.labels = labels\n",
        "        self.transform = transform\n",
        "\n",
        "    def __len__(self):\n",
        "        return len(self.data)\n",
        "\n",
        "    def __getitem__(self, idx):\n",
        "        img = self.data[idx]\n",
        "        label = self.labels[idx]\n",
        "        if self.transform:\n",
        "            img = self.transform(img)\n",
        "        return img, label"
      ]
    },
    {
      "cell_type": "code",
      "execution_count": null,
      "metadata": {
        "id": "wOlLCoIZD1Q-"
      },
      "outputs": [],
      "source": [
        "train_ds = NPYDataset(faces_train, labels_train, train_transform)\n",
        "val_ds = NPYDataset(faces_val, labels_val, transform)\n",
        "test_ds = NPYDataset(faces_test, labels_test, transform)\n",
        "\n",
        "train_dl = DataLoader(train_ds, batch_size=BATCH, shuffle=True)\n",
        "val_dl = DataLoader(val_ds, batch_size=BATCH, shuffle=False)\n",
        "test_dl = DataLoader(test_ds, batch_size=BATCH, shuffle=False)"
      ]
    },
    {
      "cell_type": "code",
      "execution_count": null,
      "metadata": {
        "id": "baxbLeG8E6aU"
      },
      "outputs": [],
      "source": [
        "effnet = efficientnet_v2_s(weights=EfficientNet_V2_S_Weights.IMAGENET1K_V1)\n",
        "num_ftrs = effnet.classifier[1].in_features\n",
        "effnet.classifier[1] = nn.Linear(num_ftrs, OUT_CLASSES)\n",
        "\n",
        "device = \"cuda\" if torch.cuda.is_available() else \"cpu\"\n",
        "print(device)\n",
        "torch.cuda.empty_cache()\n",
        "torch.cuda.ipc_collect()"
      ]
    },
    {
      "cell_type": "code",
      "execution_count": null,
      "metadata": {
        "id": "dg_GAl_RE6ef"
      },
      "outputs": [],
      "source": [
        "def objective(trial):\n",
        "    lr = trial.suggest_float(\"lr\", 1e-2, 1e-1, log=True)\n",
        "    model = deepcopy(effnet).to(device)\n",
        "    criterion = nn.CrossEntropyLoss()\n",
        "    optimizer = optim.SGD(model.parameters(), lr=lr)\n",
        "    best_val_loss = float('inf')\n",
        "\n",
        "    for epoch in range(1, EPOCHS + 1):\n",
        "        # Training\n",
        "        model.train()\n",
        "        running_loss, correct, total = 0.0, 0, 0\n",
        "        for data, target in tqdm(train_dl, desc=f\"Epoch {epoch} Training\"):\n",
        "            optimizer.zero_grad()\n",
        "            data, target = data.to(device), target.to(device)\n",
        "            outputs = model(data)\n",
        "            loss = criterion(outputs, target)\n",
        "            loss.backward()\n",
        "            optimizer.step()\n",
        "            running_loss += loss.item() * data.size(0)\n",
        "            correct += (outputs.argmax(1) == target).sum().item()\n",
        "            total += data.size(0)\n",
        "        train_loss, train_acc = running_loss/total, correct/total\n",
        "\n",
        "        # Validation\n",
        "        model.eval()\n",
        "        val_running, val_corr, val_tot = 0.0, 0, 0\n",
        "        with torch.no_grad():\n",
        "            for data, target in tqdm(val_dl, desc=f\"Epoch {epoch} Validation\"):\n",
        "                data, target = data.to(device), target.to(device)\n",
        "                outputs = model(data)\n",
        "                loss = criterion(outputs, target)\n",
        "                val_running += loss.item() * data.size(0)\n",
        "                val_corr += (outputs.argmax(1) == target).sum().item()\n",
        "                val_tot += data.size(0)\n",
        "        val_loss, val_acc = val_running/val_tot, val_corr/val_tot\n",
        "\n",
        "        if val_loss < best_val_loss:\n",
        "            best_val_loss = val_loss\n",
        "\n",
        "        print(f\"Epoch {epoch} | LR: {lr:.6f} | \"\n",
        "              f\"Train Loss: {train_loss:.4f} | Train Acc: {train_acc*100:.2f}% | \"\n",
        "              f\"Val Loss: {val_loss:.4f} | Val Acc: {val_acc*100:.2f}%\")\n",
        "\n",
        "    return best_val_loss"
      ]
    },
    {
      "cell_type": "code",
      "execution_count": null,
      "metadata": {
        "id": "3CEthhM2mne-"
      },
      "outputs": [],
      "source": [
        "# study = optuna.create_study(direction=\"maximize\")\n",
        "# study.optimize(objective, n_trials=2)\n",
        "# print(\"Best hyperparameters:\", study.best_params)\n",
        "# print(\"Best value (validation accuracy):\", study.best_value)\n",
        "\n",
        "study = optuna.create_study(direction=\"minimize\")\n",
        "study.optimize(objective, n_trials=5)\n",
        "print(\"Best hyperparameters:\", study.best_params)\n",
        "print(\"Best value (validation loss):\", study.best_value)"
      ]
    },
    {
      "cell_type": "code",
      "execution_count": null,
      "metadata": {
        "id": "LV9hFvwDmwBZ"
      },
      "outputs": [],
      "source": [
        "best_lr = study.best_params[\"lr\"]\n",
        "print(\"Retraining with best hyperparameters...\")\n",
        "final_model = deepcopy(effnet).to(device)\n",
        "criterion = nn.CrossEntropyLoss()\n",
        "optimizer = optim.SGD(final_model.parameters(), lr=best_lr)\n",
        "best_final_loss = float('inf')\n",
        "\n",
        "for epoch in range(1, EPOCHS + 1):\n",
        "    # Training\n",
        "    final_model.train()\n",
        "    running_loss, correct, total = 0.0, 0, 0\n",
        "    for data, target in tqdm(train_dl, desc=f\"Retrain Epoch {epoch}\"):\n",
        "        optimizer.zero_grad()\n",
        "        data, target = data.to(device), target.to(device)\n",
        "        outputs = final_model(data)\n",
        "        loss = criterion(outputs, target)\n",
        "        loss.backward()\n",
        "        optimizer.step()\n",
        "        running_loss += loss.item() * data.size(0)\n",
        "        correct += (outputs.argmax(1) == target).sum().item()\n",
        "        total += data.size(0)\n",
        "\n",
        "    # Validation\n",
        "    final_model.eval()\n",
        "    val_running, val_corr, val_tot = 0.0, 0, 0\n",
        "    with torch.no_grad():\n",
        "        for data, target in tqdm(val_dl, desc=\"Validation\"):\n",
        "            data, target = data.to(device), target.to(device)\n",
        "            outputs = final_model(data)\n",
        "            loss = criterion(outputs, target)\n",
        "            val_running += loss.item() * data.size(0)\n",
        "            val_corr += (outputs.argmax(1) == target).sum().item()\n",
        "            val_tot += data.size(0)\n",
        "    val_loss, val_acc = val_running/val_tot, val_corr/val_tot\n",
        "\n",
        "    if val_loss < best_final_loss:\n",
        "        best_final_loss = val_loss\n",
        "        best_model = deepcopy(final_model)\n",
        "\n",
        "    print(f\"Epoch {epoch} | LR: {best_lr:.6f} | \"\n",
        "          f\"Train Loss: {running_loss/total:.4f} | Train Acc: {correct/total*100:.2f}% | \"\n",
        "          f\"Val Loss: {val_loss:.4f} | Val Acc: {val_acc*100:.2f}%\")"
      ]
    },
    {
      "cell_type": "code",
      "execution_count": null,
      "metadata": {
        "id": "zmdN5vikFLjY"
      },
      "outputs": [],
      "source": [
        "best_model.eval()\n",
        "test_preds = []\n",
        "truth = []\n",
        "with torch.no_grad():\n",
        "    for data, target in test_dl:\n",
        "        if device == \"cuda\":\n",
        "            data = data.cuda()\n",
        "        outputs = best_model(data)\n",
        "        test_preds.extend(outputs.argmax(1).cpu().numpy())\n",
        "        truth.extend(target.numpy())"
      ]
    },
    {
      "cell_type": "code",
      "execution_count": null,
      "metadata": {
        "id": "J89gIILfc3l-"
      },
      "outputs": [],
      "source": [
        "score = accuracy_score(truth, test_preds)\n",
        "report = classification_report(truth, test_preds)\n",
        "cm = confusion_matrix(truth, test_preds)"
      ]
    },
    {
      "cell_type": "code",
      "execution_count": null,
      "metadata": {
        "id": "ILkExNAdFLmH"
      },
      "outputs": [],
      "source": [
        "print(\"Test Accuracy:\", round(score * 100, 2), \"%\")\n",
        "print(report)"
      ]
    },
    {
      "cell_type": "code",
      "execution_count": null,
      "metadata": {
        "id": "mWwkg56xFLoL"
      },
      "outputs": [],
      "source": [
        "sns.heatmap(cm, annot=True, fmt='d')\n",
        "plt.title(f\"Accuracy: {round(score * 100, 2)}%\")\n",
        "plt.show()"
      ]
    },
    {
      "cell_type": "code",
      "execution_count": null,
      "metadata": {
        "id": "6WixYTIjFcaK"
      },
      "outputs": [],
      "source": [
        "fig, axes = plt.subplots(nrows=5, ncols=5, figsize=(10, 6))\n",
        "index = 0\n",
        "for i in range(5):\n",
        "    for j in range(5):\n",
        "        img = Image.fromarray(np.uint8(faces_test[index] * 255))\n",
        "        axes[i][j].imshow(img)\n",
        "        axes[i][j].set_title(\"Pred: {}\\nTruth: {}\".format(\n",
        "            index_label[test_preds[index]], index_label[truth[index]]\n",
        "        ))\n",
        "        axes[i][j].axis(\"off\")\n",
        "        index += 1\n",
        "plt.tight_layout()\n",
        "plt.show()"
      ]
    },
    {
      "cell_type": "code",
      "execution_count": null,
      "metadata": {
        "id": "-i6iwJ2hnm6C"
      },
      "outputs": [],
      "source": []
    }
  ],
  "metadata": {
    "accelerator": "GPU",
    "colab": {
      "gpuType": "T4",
      "provenance": []
    },
    "kernelspec": {
      "display_name": "myenv",
      "language": "python",
      "name": "python3"
    },
    "language_info": {
      "codemirror_mode": {
        "name": "ipython",
        "version": 3
      },
      "file_extension": ".py",
      "mimetype": "text/x-python",
      "name": "python",
      "nbconvert_exporter": "python",
      "pygments_lexer": "ipython3",
      "version": "3.10.16"
    }
  },
  "nbformat": 4,
  "nbformat_minor": 0
}